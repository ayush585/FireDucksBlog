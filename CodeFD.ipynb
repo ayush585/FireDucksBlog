{
  "nbformat": 4,
  "nbformat_minor": 0,
  "metadata": {
    "colab": {
      "provenance": [],
      "authorship_tag": "ABX9TyOUi+bzvSztiZahc4gOHK2A",
      "include_colab_link": true
    },
    "kernelspec": {
      "name": "python3",
      "display_name": "Python 3"
    },
    "language_info": {
      "name": "python"
    }
  },
  "cells": [
    {
      "cell_type": "markdown",
      "metadata": {
        "id": "view-in-github",
        "colab_type": "text"
      },
      "source": [
        "<a href=\"https://colab.research.google.com/github/ayush585/FireDucksBlog/blob/main/CodeFD.ipynb\" target=\"_parent\"><img src=\"https://colab.research.google.com/assets/colab-badge.svg\" alt=\"Open In Colab\"/></a>"
      ]
    },
    {
      "cell_type": "code",
      "execution_count": null,
      "metadata": {
        "id": "bKwipoH0jOob"
      },
      "outputs": [],
      "source": [
        "import fireducks as fd\n",
        "import pandas as pd\n",
        "\n",
        "# Load transaction data\n",
        "data = fd.read_csv(\"transactions.csv\")\n",
        "\n",
        "# Feature Engineering\n",
        "data['transaction_hour'] = data['timestamp'].dt.hour\n",
        "data['amount_log'] = data['amount'].apply(lambda x: np.log1p(x))\n",
        "\n",
        "# Handling missing values efficiently\n",
        "data = fd.impute_missing(data)\n",
        "\n",
        "# Save processed data\n",
        "data.to_csv(\"processed_data.csv\", index=False)"
      ]
    }
  ]
}