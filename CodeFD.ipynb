{
  "nbformat": 4,
  "nbformat_minor": 0,
  "metadata": {
    "colab": {
      "provenance": [],
      "authorship_tag": "ABX9TyNSF6pQ+fku+3NSeHxFBx7B",
      "include_colab_link": true
    },
    "kernelspec": {
      "name": "python3",
      "display_name": "Python 3"
    },
    "language_info": {
      "name": "python"
    }
  },
  "cells": [
    {
      "cell_type": "markdown",
      "metadata": {
        "id": "view-in-github",
        "colab_type": "text"
      },
      "source": [
        "<a href=\"https://colab.research.google.com/github/ayush585/FireDucksBlog/blob/main/CodeFD.ipynb\" target=\"_parent\"><img src=\"https://colab.research.google.com/assets/colab-badge.svg\" alt=\"Open In Colab\"/></a>"
      ]
    },
    {
      "cell_type": "code",
      "execution_count": null,
      "metadata": {
        "id": "bKwipoH0jOob"
      },
      "outputs": [],
      "source": [
        "import fireducks as fd\n",
        "import pandas as pd\n",
        "import numpy as np\n",
        "\n",
        "# Load transaction data\n",
        "data = fd.read_csv(\"transactions.csv\")\n",
        "\n",
        "# Feature Engineering\n",
        "data['transaction_hour'] = data['timestamp'].dt.hour\n",
        "data['amount_log'] = data['amount'].apply(lambda x: np.log1p(x))\n",
        "\n",
        "# Handling missing values efficiently\n",
        "data = fd.impute_missing(data)\n",
        "\n",
        "# Force FireDucks to evaluate the computation\n",
        "def evaluate(df):\n",
        "    try:\n",
        "        df._evaluate()  # Ensures FireDucks processes data before exporting\n",
        "    except AttributeError:\n",
        "        pass\n",
        "\n",
        "evaluate(data)  # Calling evaluation\n",
        "\n",
        "# Save processed data\n",
        "data.to_csv(\"processed_data.csv\", index=False)\n"
      ]
    }
  ]
}